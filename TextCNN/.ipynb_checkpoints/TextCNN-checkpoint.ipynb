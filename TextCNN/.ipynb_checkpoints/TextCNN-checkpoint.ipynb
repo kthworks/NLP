{
 "cells": [
  {
   "cell_type": "code",
   "execution_count": null,
   "id": "2e42d188",
   "metadata": {},
   "outputs": [],
   "source": [
    "import torch\n",
    "import torch.nn as nn\n",
    "import torch.nn.Functional as F\n",
    "import torch.optim as optim\n",
    "import numpy as np\n",
    "\n",
    "class TextCNN(nn.Module):\n",
    "    def __init__(self):\n",
    "        super(TextCNN, self).__init__()  # super 초기화\n",
    "        self.n_gram = 2 # window size\n",
    "        self.n_filters = 3\n",
    "        self.W = nn.Embedding(vocab_size, embed_size)\n",
    "        self.Bias = nn.Parameter(torch.ones([num_classes]))\n",
    "        self.Weight = nn.Linear(self.n_filters, num_class, bias=False)\n",
    "    \n",
    "    def forward(self, X):\n",
    "        embedded = self.W(X) # Input으로 look-up table의 index를 받음\n",
    "        embedded = embedded.unsqueeze(1) # [batch, n_gram, embed_size] -> [batch, channel(=1), n_gram, embed_size]로 CNN format에 맞게 채널 차원 추가\n",
    "        \n",
    "        for i in range(self.)\n",
    "        \n",
    "        \n",
    "        \n",
    "        \n",
    "        \n",
    "    "
   ]
  }
 ],
 "metadata": {
  "kernelspec": {
   "display_name": "Python 3 (ipykernel)",
   "language": "python",
   "name": "python3"
  },
  "language_info": {
   "codemirror_mode": {
    "name": "ipython",
    "version": 3
   },
   "file_extension": ".py",
   "mimetype": "text/x-python",
   "name": "python",
   "nbconvert_exporter": "python",
   "pygments_lexer": "ipython3",
   "version": "3.8.12"
  }
 },
 "nbformat": 4,
 "nbformat_minor": 5
}

{
 "cells": [
  {
   "cell_type": "code",
   "execution_count": 155,
   "id": "cef5566b",
   "metadata": {},
   "outputs": [
    {
     "ename": "RuntimeError",
     "evalue": "Expected 4-dimensional input for 4-dimensional weight [3, 1, 2, 2], but got 3-dimensional input of size [4, 1, 2] instead",
     "output_type": "error",
     "traceback": [
      "\u001b[1;31m---------------------------------------------------------------------------\u001b[0m",
      "\u001b[1;31mRuntimeError\u001b[0m                              Traceback (most recent call last)",
      "\u001b[1;32mC:\\Users\\IMEDIS~1\\AppData\\Local\\Temp/ipykernel_36200/2385179595.py\u001b[0m in \u001b[0;36m<module>\u001b[1;34m\u001b[0m\n\u001b[0;32m     87\u001b[0m         \u001b[1;32mfor\u001b[0m \u001b[0mbatch\u001b[0m \u001b[1;32min\u001b[0m \u001b[0mrange\u001b[0m\u001b[1;33m(\u001b[0m\u001b[0mlen\u001b[0m\u001b[1;33m(\u001b[0m\u001b[0minputs\u001b[0m\u001b[1;33m)\u001b[0m\u001b[1;33m)\u001b[0m\u001b[1;33m:\u001b[0m\u001b[1;33m\u001b[0m\u001b[1;33m\u001b[0m\u001b[0m\n\u001b[0;32m     88\u001b[0m \u001b[1;33m\u001b[0m\u001b[0m\n\u001b[1;32m---> 89\u001b[1;33m             \u001b[0moutput\u001b[0m \u001b[1;33m=\u001b[0m \u001b[0mmodel\u001b[0m\u001b[1;33m(\u001b[0m\u001b[0minputs\u001b[0m\u001b[1;33m[\u001b[0m\u001b[0mbatch\u001b[0m\u001b[1;33m]\u001b[0m\u001b[1;33m)\u001b[0m\u001b[1;33m\u001b[0m\u001b[1;33m\u001b[0m\u001b[0m\n\u001b[0m\u001b[0;32m     90\u001b[0m             \u001b[0mloss_tmp\u001b[0m \u001b[1;33m=\u001b[0m \u001b[0mcriterion\u001b[0m\u001b[1;33m(\u001b[0m\u001b[0moutput\u001b[0m\u001b[1;33m,\u001b[0m \u001b[0mtargets\u001b[0m\u001b[1;33m[\u001b[0m\u001b[0mbatch\u001b[0m\u001b[1;33m]\u001b[0m\u001b[1;33m)\u001b[0m\u001b[1;33m\u001b[0m\u001b[1;33m\u001b[0m\u001b[0m\n\u001b[0;32m     91\u001b[0m             \u001b[0mloss\u001b[0m \u001b[1;33m+=\u001b[0m \u001b[0mloss_tmp\u001b[0m\u001b[1;33m\u001b[0m\u001b[1;33m\u001b[0m\u001b[0m\n",
      "\u001b[1;32m~\\anaconda3\\envs\\NLP\\lib\\site-packages\\torch\\nn\\modules\\module.py\u001b[0m in \u001b[0;36m_call_impl\u001b[1;34m(self, *input, **kwargs)\u001b[0m\n\u001b[0;32m   1100\u001b[0m         if not (self._backward_hooks or self._forward_hooks or self._forward_pre_hooks or _global_backward_hooks\n\u001b[0;32m   1101\u001b[0m                 or _global_forward_hooks or _global_forward_pre_hooks):\n\u001b[1;32m-> 1102\u001b[1;33m             \u001b[1;32mreturn\u001b[0m \u001b[0mforward_call\u001b[0m\u001b[1;33m(\u001b[0m\u001b[1;33m*\u001b[0m\u001b[0minput\u001b[0m\u001b[1;33m,\u001b[0m \u001b[1;33m**\u001b[0m\u001b[0mkwargs\u001b[0m\u001b[1;33m)\u001b[0m\u001b[1;33m\u001b[0m\u001b[1;33m\u001b[0m\u001b[0m\n\u001b[0m\u001b[0;32m   1103\u001b[0m         \u001b[1;31m# Do not call functions when jit is used\u001b[0m\u001b[1;33m\u001b[0m\u001b[1;33m\u001b[0m\u001b[1;33m\u001b[0m\u001b[0m\n\u001b[0;32m   1104\u001b[0m         \u001b[0mfull_backward_hooks\u001b[0m\u001b[1;33m,\u001b[0m \u001b[0mnon_full_backward_hooks\u001b[0m \u001b[1;33m=\u001b[0m \u001b[1;33m[\u001b[0m\u001b[1;33m]\u001b[0m\u001b[1;33m,\u001b[0m \u001b[1;33m[\u001b[0m\u001b[1;33m]\u001b[0m\u001b[1;33m\u001b[0m\u001b[1;33m\u001b[0m\u001b[0m\n",
      "\u001b[1;32mC:\\Users\\IMEDIS~1\\AppData\\Local\\Temp/ipykernel_36200/2385179595.py\u001b[0m in \u001b[0;36mforward\u001b[1;34m(self, X)\u001b[0m\n\u001b[0;32m     35\u001b[0m \u001b[1;33m\u001b[0m\u001b[0m\n\u001b[0;32m     36\u001b[0m             \u001b[1;31m# Convolution 후 ReLU\u001b[0m\u001b[1;33m\u001b[0m\u001b[1;33m\u001b[0m\u001b[1;33m\u001b[0m\u001b[0m\n\u001b[1;32m---> 37\u001b[1;33m             \u001b[0mout\u001b[0m \u001b[1;33m=\u001b[0m \u001b[0mF\u001b[0m\u001b[1;33m.\u001b[0m\u001b[0mrelu\u001b[0m\u001b[1;33m(\u001b[0m\u001b[0mconv\u001b[0m\u001b[1;33m(\u001b[0m\u001b[0membedded\u001b[0m\u001b[1;33m)\u001b[0m\u001b[1;33m)\u001b[0m \u001b[1;31m# out = [batch=1, 1, sequence_length - filter_size[i] + 1, 1]\u001b[0m\u001b[1;33m\u001b[0m\u001b[1;33m\u001b[0m\u001b[0m\n\u001b[0m\u001b[0;32m     38\u001b[0m \u001b[1;33m\u001b[0m\u001b[0m\n\u001b[0;32m     39\u001b[0m             \u001b[1;31m# Maxpooling for each Feature Map\u001b[0m\u001b[1;33m\u001b[0m\u001b[1;33m\u001b[0m\u001b[1;33m\u001b[0m\u001b[0m\n",
      "\u001b[1;32m~\\anaconda3\\envs\\NLP\\lib\\site-packages\\torch\\nn\\modules\\module.py\u001b[0m in \u001b[0;36m_call_impl\u001b[1;34m(self, *input, **kwargs)\u001b[0m\n\u001b[0;32m   1100\u001b[0m         if not (self._backward_hooks or self._forward_hooks or self._forward_pre_hooks or _global_backward_hooks\n\u001b[0;32m   1101\u001b[0m                 or _global_forward_hooks or _global_forward_pre_hooks):\n\u001b[1;32m-> 1102\u001b[1;33m             \u001b[1;32mreturn\u001b[0m \u001b[0mforward_call\u001b[0m\u001b[1;33m(\u001b[0m\u001b[1;33m*\u001b[0m\u001b[0minput\u001b[0m\u001b[1;33m,\u001b[0m \u001b[1;33m**\u001b[0m\u001b[0mkwargs\u001b[0m\u001b[1;33m)\u001b[0m\u001b[1;33m\u001b[0m\u001b[1;33m\u001b[0m\u001b[0m\n\u001b[0m\u001b[0;32m   1103\u001b[0m         \u001b[1;31m# Do not call functions when jit is used\u001b[0m\u001b[1;33m\u001b[0m\u001b[1;33m\u001b[0m\u001b[1;33m\u001b[0m\u001b[0m\n\u001b[0;32m   1104\u001b[0m         \u001b[0mfull_backward_hooks\u001b[0m\u001b[1;33m,\u001b[0m \u001b[0mnon_full_backward_hooks\u001b[0m \u001b[1;33m=\u001b[0m \u001b[1;33m[\u001b[0m\u001b[1;33m]\u001b[0m\u001b[1;33m,\u001b[0m \u001b[1;33m[\u001b[0m\u001b[1;33m]\u001b[0m\u001b[1;33m\u001b[0m\u001b[1;33m\u001b[0m\u001b[0m\n",
      "\u001b[1;32m~\\anaconda3\\envs\\NLP\\lib\\site-packages\\torch\\nn\\modules\\conv.py\u001b[0m in \u001b[0;36mforward\u001b[1;34m(self, input)\u001b[0m\n\u001b[0;32m    444\u001b[0m \u001b[1;33m\u001b[0m\u001b[0m\n\u001b[0;32m    445\u001b[0m     \u001b[1;32mdef\u001b[0m \u001b[0mforward\u001b[0m\u001b[1;33m(\u001b[0m\u001b[0mself\u001b[0m\u001b[1;33m,\u001b[0m \u001b[0minput\u001b[0m\u001b[1;33m:\u001b[0m \u001b[0mTensor\u001b[0m\u001b[1;33m)\u001b[0m \u001b[1;33m->\u001b[0m \u001b[0mTensor\u001b[0m\u001b[1;33m:\u001b[0m\u001b[1;33m\u001b[0m\u001b[1;33m\u001b[0m\u001b[0m\n\u001b[1;32m--> 446\u001b[1;33m         \u001b[1;32mreturn\u001b[0m \u001b[0mself\u001b[0m\u001b[1;33m.\u001b[0m\u001b[0m_conv_forward\u001b[0m\u001b[1;33m(\u001b[0m\u001b[0minput\u001b[0m\u001b[1;33m,\u001b[0m \u001b[0mself\u001b[0m\u001b[1;33m.\u001b[0m\u001b[0mweight\u001b[0m\u001b[1;33m,\u001b[0m \u001b[0mself\u001b[0m\u001b[1;33m.\u001b[0m\u001b[0mbias\u001b[0m\u001b[1;33m)\u001b[0m\u001b[1;33m\u001b[0m\u001b[1;33m\u001b[0m\u001b[0m\n\u001b[0m\u001b[0;32m    447\u001b[0m \u001b[1;33m\u001b[0m\u001b[0m\n\u001b[0;32m    448\u001b[0m \u001b[1;32mclass\u001b[0m \u001b[0mConv3d\u001b[0m\u001b[1;33m(\u001b[0m\u001b[0m_ConvNd\u001b[0m\u001b[1;33m)\u001b[0m\u001b[1;33m:\u001b[0m\u001b[1;33m\u001b[0m\u001b[1;33m\u001b[0m\u001b[0m\n",
      "\u001b[1;32m~\\anaconda3\\envs\\NLP\\lib\\site-packages\\torch\\nn\\modules\\conv.py\u001b[0m in \u001b[0;36m_conv_forward\u001b[1;34m(self, input, weight, bias)\u001b[0m\n\u001b[0;32m    440\u001b[0m                             \u001b[0mweight\u001b[0m\u001b[1;33m,\u001b[0m \u001b[0mbias\u001b[0m\u001b[1;33m,\u001b[0m \u001b[0mself\u001b[0m\u001b[1;33m.\u001b[0m\u001b[0mstride\u001b[0m\u001b[1;33m,\u001b[0m\u001b[1;33m\u001b[0m\u001b[1;33m\u001b[0m\u001b[0m\n\u001b[0;32m    441\u001b[0m                             _pair(0), self.dilation, self.groups)\n\u001b[1;32m--> 442\u001b[1;33m         return F.conv2d(input, weight, bias, self.stride,\n\u001b[0m\u001b[0;32m    443\u001b[0m                         self.padding, self.dilation, self.groups)\n\u001b[0;32m    444\u001b[0m \u001b[1;33m\u001b[0m\u001b[0m\n",
      "\u001b[1;31mRuntimeError\u001b[0m: Expected 4-dimensional input for 4-dimensional weight [3, 1, 2, 2], but got 3-dimensional input of size [4, 1, 2] instead"
     ]
    }
   ],
   "source": [
    "import torch\n",
    "import torch.nn as nn\n",
    "import torch.nn.functional as F\n",
    "import torch.optim as optim\n",
    "import numpy as np\n",
    "\n",
    "class TextCNN(nn.Module):\n",
    "    \n",
    "    def __init__(self):\n",
    "        super(TextCNN, self).__init__()\n",
    "        self.Total_filters = num_filters * len(filter_sizes)\n",
    "        self.W = nn.Embedding(vocab_size, emb_dim)\n",
    "        self.Weight = nn.Linear(self.Total_filters, num_classes)\n",
    "        self.Bias = nn.Parameter(torch.ones([num_classes]))\n",
    "        \n",
    "        # nn.Conv2d = [input_channels, output_channels, (kernel_height, kernel_width)]\n",
    "        self.Filter_list = nn.ModuleList([nn.Conv2d(1, num_filters, (filter_dim, emb_dim)) for filter_dim in filter_sizes])\n",
    "        \n",
    "    def forward(self,X):\n",
    "        \n",
    "        # input X는 look-up table을 할 수 있도록 각 토큰의 인덱스 형태로 제공받음 [batch, sequence_length]\n",
    "        X = torch.LongTensor(X) #index이므로 long tensor로 변환해줌\n",
    "        embedded = self.W(X) # [batch=1, sequence_length, emb_dim]\n",
    "        \n",
    "        # batch 및 channel 차원 추가 (conv2d layer의 input 형식에 맞게)\n",
    "        embedded = embedded.unsqueeze(0)\n",
    "        embedded = embedded.unsqueeze(0) #[batch=1, 1, sequence_length, emb_dim]\n",
    "        \n",
    "        # sequence_length\n",
    "        sequence_length = embedded.shape[2]\n",
    "        \n",
    "        #convolution\n",
    "        pooled = []\n",
    "        for i in range(num_filters):\n",
    "            conv = self.Filter_list[i]\n",
    "            \n",
    "            # Convolution 후 ReLU  \n",
    "            out = F.relu(conv(embedded)) # out = [batch=1, 1, sequence_length - filter_size[i] + 1, 1]\n",
    "            \n",
    "            # Maxpooling for each Feature Map\n",
    "            out = nn.MaxPool2d((sequence_length - filter_size[i] + 1, 1)) # out = [batch=1, output_channels=3, 1, 1]\n",
    "            \n",
    "            # Append maxpooled units to pooled\n",
    "            pooled.append(out.squeeze())\n",
    "        \n",
    "        # Fully connected layer \n",
    "        fc = torch.cat(pooled, 0)\n",
    "        out = self.Weight(fc) + self.Bias # out = [self.Total_filters, num_classes]\n",
    "        \n",
    "        return out\n",
    "\n",
    "\n",
    "\n",
    "if __name__ == '__main__':\n",
    "    \n",
    "    embed_size = 2\n",
    "    num_filters = 3\n",
    "    filter_sizes = [2,3,4]\n",
    "    num_classes = 2\n",
    "    \n",
    "    # Corpus and Labeles\n",
    "    sentences = ['i am happy guy', 'you are happy guy', 'it is really interesting', 'i love playing piano', 'she love me', \n",
    "                 'it is terrible', 'he is very ugly', 'she hate the man', 'i hate my ugly voice', 'it is not good']\n",
    "\n",
    "    labels = [1, 1, 1, 1, 1, 0, 0, 0, 0, 0] # 1 : Positive, 0: Negative\n",
    "    \n",
    "    # make inputs \n",
    "    word_list = \" \".join(sentences).split()\n",
    "    vocab = list(set(word_list))\n",
    "    vocab_size = len(vocab)\n",
    "    vocab_dict = {word:idx for idx, word in enumerate(vocab)}\n",
    "    \n",
    "    inputs = [[vocab_dict[i] for i in s.split()] for s in sentences]\n",
    "    targets = torch.LongTensor([out for out in labels]) # label이므로 long tensor\n",
    "    \n",
    "    # get model\n",
    "    model =  TextCNN()\n",
    "    \n",
    "    # optimizer and loss function\n",
    "    optimizer = optim.Adam(model.parameters(), lr=0.001)\n",
    "    criterion = nn.CrossEntropyLoss()\n",
    "    \n",
    "    # Training\n",
    "    for epoch in range(5000):\n",
    "        optimizer.zero_grad()\n",
    "        loss = 0\n",
    "        \n",
    "        for batch in range(len(inputs)):\n",
    "            \n",
    "            output = model(inputs[batch])\n",
    "            loss_tmp = criterion(output, targets[batch])\n",
    "            loss += loss_tmp\n",
    "            \n",
    "        if (epoch + 1) % 1000 == 0:\n",
    "            print('Epoch:', '%04d' % (epoch + 1), 'cost =', '{:.6f}'.format(loss))\n",
    "\n",
    "        loss.backward()\n",
    "        optimizer.step()"
   ]
  },
  {
   "cell_type": "code",
   "execution_count": 164,
   "id": "a3c39077",
   "metadata": {
    "scrolled": true
   },
   "outputs": [
    {
     "data": {
      "text/plain": [
       "torch.Size([1, 1, 4, 2])"
      ]
     },
     "execution_count": 164,
     "metadata": {},
     "output_type": "execute_result"
    }
   ],
   "source": [
    "W = nn.Embedding(vocab_size, emb_dim)\n",
    "\n",
    "embedded = W(torch.LongTensor(inputs[batch]))\n",
    "embedded = embedded.unsqueeze(0)\n",
    "embedded = embedded.unsqueeze(0)\n",
    "\n",
    "embedded.shape\n",
    "\n"
   ]
  },
  {
   "cell_type": "code",
   "execution_count": 135,
   "id": "13e091eb",
   "metadata": {},
   "outputs": [
    {
     "data": {
      "text/plain": [
       "{'he': 0,\n",
       " 'it': 1,\n",
       " 'am': 2,\n",
       " 'interesting': 3,\n",
       " 'hate': 4,\n",
       " 'piano': 5,\n",
       " 'i': 6,\n",
       " 'the': 7,\n",
       " 'very': 8,\n",
       " 'not': 9,\n",
       " 'you': 10,\n",
       " 'good': 11,\n",
       " 'me': 12,\n",
       " 'ugly': 13,\n",
       " 'guy': 14,\n",
       " 'is': 15,\n",
       " 'she': 16,\n",
       " 'my': 17,\n",
       " 'voice': 18,\n",
       " 'man': 19,\n",
       " 'happy': 20,\n",
       " 'love': 21,\n",
       " 'playing': 22,\n",
       " 'terrible': 23,\n",
       " 'really': 24,\n",
       " 'are': 25}"
      ]
     },
     "execution_count": 135,
     "metadata": {},
     "output_type": "execute_result"
    }
   ],
   "source": [
    "sentences = ['i am happy guy', 'you are happy guy', 'it is really interesting', 'i love playing piano', 'she love me', \n",
    "             'it is terrible', 'he is very ugly', 'she hate the man', 'i hate my ugly voice', 'it is not good']\n",
    "\n",
    "labels = [1, 1, 1, 1, 1, 0, 0, 0, 0, 0] # 1 : Positive, 0: Negative\n",
    "\n",
    "# make inputs \n",
    "word_list = \" \".join(sentences).split()\n",
    "vocab = list(set(word_list))\n",
    "vocab_dict = {word:idx for idx, word in enumerate(vocab)}\n",
    "\n",
    "inputs = [[vocab_dict[i] for i in s.split()] for s in sentences]\n",
    "targets = torch.LongTensor([out for out in labels]) # label이므로 long tensor\n",
    "\n",
    "vocab_dict"
   ]
  }
 ],
 "metadata": {
  "kernelspec": {
   "display_name": "Python 3 (ipykernel)",
   "language": "python",
   "name": "python3"
  },
  "language_info": {
   "codemirror_mode": {
    "name": "ipython",
    "version": 3
   },
   "file_extension": ".py",
   "mimetype": "text/x-python",
   "name": "python",
   "nbconvert_exporter": "python",
   "pygments_lexer": "ipython3",
   "version": "3.8.12"
  }
 },
 "nbformat": 4,
 "nbformat_minor": 5
}

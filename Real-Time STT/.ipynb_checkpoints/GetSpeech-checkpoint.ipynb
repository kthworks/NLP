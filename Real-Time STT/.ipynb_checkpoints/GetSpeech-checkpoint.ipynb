{
 "cells": [
  {
   "cell_type": "code",
   "execution_count": null,
   "id": "4fddb332",
   "metadata": {},
   "outputs": [],
   "source": [
    "import speech_recognition as sr\n",
    "\n",
    "# 함수 정의부\n",
    "def get_speech():\n",
    "    # 마이크에서 음성을 추출하는 객체\n",
    "    recognizer = sr.Recognizer()\n",
    "\n",
    "    # 마이크 설정\n",
    "    microphone = sr.Microphone(sample_rate=16000)\n",
    "\n",
    "    # 마이크 소음 수치 반영\n",
    "    with microphone as source:\n",
    "        recognizer.adjust_for_ambient_noise(source)\n",
    "        print(\"소음 수치 반영하여 음성을 청취합니다. {}\".format(recognizer.energy_threshold))\n",
    "\n",
    "    # 음성 수집\n",
    "    with microphone as source:\n",
    "        print(\"목소리를 들을 준비가 되었습니다. 말씀해주세요 :)\")\n",
    "        result = recognizer.listen(source)\n",
    "        audio = result.get_raw_data()\n",
    "    \n",
    "    return audio"
   ]
  }
 ],
 "metadata": {
  "kernelspec": {
   "display_name": "Python 3 (ipykernel)",
   "language": "python",
   "name": "python3"
  },
  "language_info": {
   "codemirror_mode": {
    "name": "ipython",
    "version": 3
   },
   "file_extension": ".py",
   "mimetype": "text/x-python",
   "name": "python",
   "nbconvert_exporter": "python",
   "pygments_lexer": "ipython3",
   "version": "3.8.12"
  }
 },
 "nbformat": 4,
 "nbformat_minor": 5
}
